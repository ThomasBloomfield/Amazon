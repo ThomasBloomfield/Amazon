{
 "cells": [
  {
   "cell_type": "markdown",
   "metadata": {
    "deletable": true,
    "editable": true
   },
   "source": [
    "## Import dependencies"
   ]
  },
  {
   "cell_type": "code",
   "execution_count": 1,
   "metadata": {
    "collapsed": false,
    "deletable": true,
    "editable": true
   },
   "outputs": [
    {
     "name": "stdout",
     "output_type": "stream",
     "text": [
      "Pixiedust database opened successfully\n"
     ]
    },
    {
     "data": {
      "text/html": [
       "\n",
       "        <div style=\"margin:10px\">\n",
       "            <a href=\"https://github.com/ibm-watson-data-lab/pixiedust\" target=\"_new\">\n",
       "                <img src=\"https://github.com/ibm-watson-data-lab/pixiedust/raw/master/docs/_static/pd_icon32.png\" style=\"float:left;margin-right:10px\"/>\n",
       "            </a>\n",
       "            <span>Pixiedust version 1.1.9</span>\n",
       "        </div>\n",
       "        "
      ],
      "text/plain": [
       "<IPython.core.display.HTML object>"
      ]
     },
     "metadata": {},
     "output_type": "display_data"
    }
   ],
   "source": [
    "from pyspark.ml import *\n",
    "from pyspark.ml.classification import *\n",
    "from pyspark.ml.feature import *\n",
    "from pyspark.ml.param import *\n",
    "from pyspark.ml.tuning import *\n",
    "from pyspark.ml.evaluation import *\n",
    "from pyspark.sql import *\n",
    "import pixiedust\n",
    "from pyspark.sql.types import Row\n",
    "from pyspark.sql import SQLContext\n",
    "sqlContext = SQLContext(sc)\n",
    "spark = SparkSession.builder.getOrCreate()\n",
    "import pandas as pd\n",
    "import csv"
   ]
  },
  {
   "cell_type": "code",
   "execution_count": null,
   "metadata": {
    "collapsed": true,
    "deletable": true,
    "editable": true
   },
   "outputs": [],
   "source": []
  },
  {
   "cell_type": "markdown",
   "metadata": {
    "deletable": true,
    "editable": true
   },
   "source": [
    "### Read in data, create schema for dataframe"
   ]
  },
  {
   "cell_type": "code",
   "execution_count": 2,
   "metadata": {
    "collapsed": false,
    "deletable": true,
    "editable": true
   },
   "outputs": [],
   "source": [
    "sc = spark.sparkContext # this is the Driver Program\n",
    "\n",
    "input_file_template=\"hdfs://saltdean/data/reviews/Reviews.csv\"\n",
    "df = sqlContext.read. \\\n",
    "  format(\"com.databricks.spark.csv\"). \\\n",
    "  option(\"header\",\"true\"). \\\n",
    "  load(input_file_template)"
   ]
  },
  {
   "cell_type": "code",
   "execution_count": 3,
   "metadata": {
    "collapsed": false,
    "deletable": true,
    "editable": true
   },
   "outputs": [
    {
     "data": {
      "text/plain": [
       "[('Id', 'string'),\n",
       " ('ProductId', 'string'),\n",
       " ('UserId', 'string'),\n",
       " ('ProfileName', 'string'),\n",
       " ('HelpfulnessNumerator', 'string'),\n",
       " ('HelpfulnessDenominator', 'string'),\n",
       " ('Score', 'string'),\n",
       " ('Time', 'string'),\n",
       " ('Summary', 'string'),\n",
       " ('Text', 'string')]"
      ]
     },
     "execution_count": 3,
     "metadata": {},
     "output_type": "execute_result"
    }
   ],
   "source": [
    "df.dtypes"
   ]
  },
  {
   "cell_type": "markdown",
   "metadata": {
    "deletable": true,
    "editable": true
   },
   "source": [
    "### Drop irrelevant columns"
   ]
  },
  {
   "cell_type": "code",
   "execution_count": 4,
   "metadata": {
    "collapsed": true,
    "deletable": true,
    "editable": true
   },
   "outputs": [],
   "source": [
    "# drop all but the most important (consider adding back later)\n",
    "df = df.drop(df.Id).drop(df.ProductId).drop(df.ProfileName).drop(df.Summary)"
   ]
  },
  {
   "cell_type": "code",
   "execution_count": 5,
   "metadata": {
    "collapsed": true,
    "deletable": true,
    "editable": true
   },
   "outputs": [],
   "source": [
    "#df = df.sample(False, 0.25)"
   ]
  },
  {
   "cell_type": "markdown",
   "metadata": {
    "deletable": true,
    "editable": true
   },
   "source": [
    "## Inspect the data"
   ]
  },
  {
   "cell_type": "markdown",
   "metadata": {
    "deletable": true,
    "editable": true
   },
   "source": [
    "#### Show Helpfulness measure: numerator and denominator"
   ]
  },
  {
   "cell_type": "code",
   "execution_count": 6,
   "metadata": {
    "collapsed": false,
    "deletable": true,
    "editable": true
   },
   "outputs": [
    {
     "name": "stdout",
     "output_type": "stream",
     "text": [
      "+--------------------+----------------------+\n",
      "|HelpfulnessNumerator|HelpfulnessDenominator|\n",
      "+--------------------+----------------------+\n",
      "|                   1|                     1|\n",
      "|                   0|                     0|\n",
      "|                   1|                     1|\n",
      "|                   3|                     3|\n",
      "|                   0|                     0|\n",
      "|                   0|                     0|\n",
      "|                   0|                     0|\n",
      "|                   0|                     0|\n",
      "|                   1|                     1|\n",
      "|                   0|                     0|\n",
      "+--------------------+----------------------+\n",
      "only showing top 10 rows\n",
      "\n"
     ]
    }
   ],
   "source": [
    "from pyspark.sql import functions as F\n",
    "df.select(\"HelpfulnessNumerator\", \"HelpfulnessDenominator\").show(10)"
   ]
  },
  {
   "cell_type": "markdown",
   "metadata": {
    "deletable": true,
    "editable": true
   },
   "source": [
    "#### Inspect rows that have no ratings"
   ]
  },
  {
   "cell_type": "code",
   "execution_count": 7,
   "metadata": {
    "collapsed": false,
    "deletable": true,
    "editable": true,
    "scrolled": false
   },
   "outputs": [
    {
     "name": "stdout",
     "output_type": "stream",
     "text": [
      "+--------------+--------------------+----------------------+-----+----------+--------------------+\n",
      "|        UserId|HelpfulnessNumerator|HelpfulnessDenominator|Score|      Time|                Text|\n",
      "+--------------+--------------------+----------------------+-----+----------+--------------------+\n",
      "|A1D87F6ZCVE5NK|                   0|                     0|    1|1346976000|\"Product arrived ...|\n",
      "|A1UQRSCLF8GW1T|                   0|                     0|    5|1350777600|Great taffy at a ...|\n",
      "| ADT0SRK1MGOEU|                   0|                     0|    4|1342051200|I got a wild hair...|\n",
      "|A1SP2KVKFXXRU1|                   0|                     0|    5|1340150400|This saltwater ta...|\n",
      "|A3JRGQVEQN31IQ|                   0|                     0|    5|1336003200|This taffy is so ...|\n",
      "|A21BT40VZCCYT4|                   0|                     0|    5|1351209600|This is a very he...|\n",
      "|A3KLWF6WQ5BNYO|                   0|                     0|    2|1348099200|I love eating the...|\n",
      "| AFKW14U97Z6QO|                   0|                     0|    5|1345075200|I am very satisfi...|\n",
      "|A2A9X58G2GTBLP|                   0|                     0|    5|1324598400|Twizzlers, Strawb...|\n",
      "|A3IV7CL2C13K2U|                   0|                     0|    5|1318032000|Candy was deliver...|\n",
      "+--------------+--------------------+----------------------+-----+----------+--------------------+\n",
      "only showing top 10 rows\n",
      "\n"
     ]
    }
   ],
   "source": [
    "# look at rows that have a numerator and denominator of zero\n",
    "df.filter((df['HelpfulnessNumerator'] == 0) & (df['HelpfulnessDenominator'] == 0)).show(10)\n"
   ]
  },
  {
   "cell_type": "markdown",
   "metadata": {
    "deletable": true,
    "editable": true
   },
   "source": [
    "## Feature generation, data wrangling"
   ]
  },
  {
   "cell_type": "markdown",
   "metadata": {
    "deletable": true,
    "editable": true
   },
   "source": [
    "#### Remove rows with no reviews and show result"
   ]
  },
  {
   "cell_type": "code",
   "execution_count": 8,
   "metadata": {
    "collapsed": false,
    "deletable": true,
    "editable": true
   },
   "outputs": [],
   "source": [
    "# remove rows which have no reviews\n",
    "df = df.filter((df['HelpfulnessNumerator'] != 0) & (df['HelpfulnessDenominator'] != 0))"
   ]
  },
  {
   "cell_type": "markdown",
   "metadata": {
    "deletable": true,
    "editable": true
   },
   "source": [
    "#### Remove reviews with less than 4 helpfulness votes"
   ]
  },
  {
   "cell_type": "code",
   "execution_count": 9,
   "metadata": {
    "collapsed": true,
    "deletable": true,
    "editable": true
   },
   "outputs": [],
   "source": [
    "df = df.filter(df['HelpfulnessDenominator'] >= 4)"
   ]
  },
  {
   "cell_type": "markdown",
   "metadata": {
    "deletable": true,
    "editable": true
   },
   "source": [
    "#### Create new ratio variable: Helpfullness numerator / helpfulness denominator..."
   ]
  },
  {
   "cell_type": "code",
   "execution_count": 10,
   "metadata": {
    "collapsed": true,
    "deletable": true,
    "editable": true
   },
   "outputs": [],
   "source": [
    "df_new = df.withColumn('target', df.HelpfulnessNumerator / df.HelpfulnessDenominator)"
   ]
  },
  {
   "cell_type": "code",
   "execution_count": 11,
   "metadata": {
    "collapsed": false,
    "deletable": true,
    "editable": true
   },
   "outputs": [
    {
     "name": "stdout",
     "output_type": "stream",
     "text": [
      "+--------------+--------------------+----------------------+-----+----------+--------------------+------+\n",
      "|        UserId|HelpfulnessNumerator|HelpfulnessDenominator|Score|      Time|                Text|target|\n",
      "+--------------+--------------------+----------------------+-----+----------+--------------------+------+\n",
      "|A2725IB4YY9JEB|                   4|                     4|    5|1282867200|One of my boys ne...|   1.0|\n",
      "|A2MUGFV2TDQ47K|                   4|                     5|    5|1268352000|The Strawberry Tw...|   0.8|\n",
      "|A1CZX3CP8IKQIJ|                   4|                     5|    5|1262044800|My daughter loves...|   0.8|\n",
      "| AOVROBZ8BNTP7|                  19|                    19|    4|1163376000|McCann's Instant ...|   1.0|\n",
      "|A3PMM0NFVEJGK9|                  13|                    13|    4|1166313600|This is a good in...|   1.0|\n",
      "+--------------+--------------------+----------------------+-----+----------+--------------------+------+\n",
      "only showing top 5 rows\n",
      "\n"
     ]
    }
   ],
   "source": [
    "df_new.show(5)"
   ]
  },
  {
   "cell_type": "code",
   "execution_count": 12,
   "metadata": {
    "collapsed": false,
    "deletable": true,
    "editable": true
   },
   "outputs": [
    {
     "name": "stdout",
     "output_type": "stream",
     "text": [
      "Proportion of examples with a helpfulness ratio >= 0.75: 0.7087576374745418\n"
     ]
    }
   ],
   "source": [
    "df_ones = df_new.filter(df_new['target'] >= '0.75')\n",
    "print('Proportion of examples with a helpfulness ratio >= 0.75:', df_ones.count()/df_new.count())\n"
   ]
  },
  {
   "cell_type": "markdown",
   "metadata": {
    "deletable": true,
    "editable": true
   },
   "source": [
    "#### ... from that create a binary target variable: '1' if ratio is above 0.75"
   ]
  },
  {
   "cell_type": "code",
   "execution_count": 13,
   "metadata": {
    "collapsed": false,
    "deletable": true,
    "editable": true,
    "scrolled": true
   },
   "outputs": [
    {
     "name": "stdout",
     "output_type": "stream",
     "text": [
      "+--------------+--------------------+----------------------+-----+----------+--------------------+------+-----------+\n",
      "|        UserId|HelpfulnessNumerator|HelpfulnessDenominator|Score|      Time|                Text|target|veryHelpful|\n",
      "+--------------+--------------------+----------------------+-----+----------+--------------------+------+-----------+\n",
      "|A2725IB4YY9JEB|                   4|                     4|    5|1282867200|One of my boys ne...|   1.0|          1|\n",
      "|A2MUGFV2TDQ47K|                   4|                     5|    5|1268352000|The Strawberry Tw...|   0.8|          1|\n",
      "|A1CZX3CP8IKQIJ|                   4|                     5|    5|1262044800|My daughter loves...|   0.8|          1|\n",
      "| AOVROBZ8BNTP7|                  19|                    19|    4|1163376000|McCann's Instant ...|   1.0|          1|\n",
      "|A3PMM0NFVEJGK9|                  13|                    13|    4|1166313600|This is a good in...|   1.0|          1|\n",
      "|A2EB6OGOWCRU5H|                   9|                     9|    5|1175212800|Instant oatmeal c...|   1.0|          1|\n",
      "|A3S5KJDA6ED2PS|                   4|                     4|    5|1243900800|\"Got a free packa...|   1.0|          1|\n",
      "|A1ZR8O62VSU4OK|                   2|                     4|    3|1318723200|Watch your prices...|   0.5|          0|\n",
      "|A2VOZX7YBT0D6D|                  15|                    15|    5|1325635200|\"I know the produ...|   1.0|          1|\n",
      "|A1FD9E5C06UB6B|                   5|                     5|    3|1301011200|While my dogs lik...|   1.0|          1|\n",
      "+--------------+--------------------+----------------------+-----+----------+--------------------+------+-----------+\n",
      "only showing top 10 rows\n",
      "\n"
     ]
    }
   ],
   "source": [
    "# create a new column 'veryHelpful' that will serve as the target variable \n",
    "from pyspark.sql.types import StringType\n",
    "from pyspark.sql.functions import udf\n",
    "veryHelpful_udf = udf(lambda target: '1' if target >= 0.75 else '0', StringType()) # EXPLAIN WHAT UDF DOES\n",
    "\n",
    "df = df_new.withColumn(\"veryHelpful\", veryHelpful_udf(df_new.target))\n",
    "df.show(10)"
   ]
  },
  {
   "cell_type": "markdown",
   "metadata": {
    "deletable": true,
    "editable": true
   },
   "source": [
    "#### Bring relevant columns forward and change label to double (for compatibility with ML pipeline)"
   ]
  },
  {
   "cell_type": "code",
   "execution_count": 14,
   "metadata": {
    "collapsed": false,
    "deletable": true,
    "editable": true
   },
   "outputs": [
    {
     "name": "stdout",
     "output_type": "stream",
     "text": [
      "+-----+--------------------+-----+--------------+\n",
      "|label|                Text|Score|        UserId|\n",
      "+-----+--------------------+-----+--------------+\n",
      "|  1.0|One of my boys ne...|    5|A2725IB4YY9JEB|\n",
      "|  1.0|The Strawberry Tw...|    5|A2MUGFV2TDQ47K|\n",
      "|  1.0|My daughter loves...|    5|A1CZX3CP8IKQIJ|\n",
      "|  1.0|McCann's Instant ...|    4| AOVROBZ8BNTP7|\n",
      "|  1.0|This is a good in...|    4|A3PMM0NFVEJGK9|\n",
      "|  1.0|Instant oatmeal c...|    5|A2EB6OGOWCRU5H|\n",
      "|  1.0|\"Got a free packa...|    5|A3S5KJDA6ED2PS|\n",
      "|  0.0|Watch your prices...|    3|A1ZR8O62VSU4OK|\n",
      "|  1.0|\"I know the produ...|    5|A2VOZX7YBT0D6D|\n",
      "|  1.0|While my dogs lik...|    3|A1FD9E5C06UB6B|\n",
      "+-----+--------------------+-----+--------------+\n",
      "only showing top 10 rows\n",
      "\n"
     ]
    }
   ],
   "source": [
    "df = df.drop(\"HelpfulnessNumerator\").drop(\"HelpfulnessDenominator\").drop(\"target\").drop(\"Time\") # drop columns no longer needed\n",
    "df = df.select(\"veryHelpful\", \"Text\", \"Score\", \"UserId\")# change order of columns\n",
    "df = df.withColumnRenamed(\"veryHelpful\", \"label\") # rename binary target column to \"label\", in-keeping with pipeline terminology\n",
    "df = df.select(df.label.cast(\"double\"), df.Text, df.Score, df.UserId) # convert labels from strings to double (some ML algorithms dislike floats)\n",
    "df.show(10)"
   ]
  },
  {
   "cell_type": "markdown",
   "metadata": {
    "deletable": true,
    "editable": true
   },
   "source": [
    "### Create a feature that shows how many times a user has posted"
   ]
  },
  {
   "cell_type": "markdown",
   "metadata": {
    "deletable": true,
    "editable": true
   },
   "source": [
    "#### First, remove duplicate reviews that will skew the 'count' variable:\n",
    "\n",
    "When a product has slight variations (e.g. different colour options), a user review is applied to all numerous product IDs.\n",
    "\n",
    "The duplicate examples are identical in every way except product ID. I.e. the text is exactly the same."
   ]
  },
  {
   "cell_type": "code",
   "execution_count": 15,
   "metadata": {
    "collapsed": false,
    "deletable": true,
    "editable": true
   },
   "outputs": [],
   "source": [
    "df = df.dropDuplicates()"
   ]
  },
  {
   "cell_type": "markdown",
   "metadata": {
    "deletable": true,
    "editable": true
   },
   "source": [
    "#### Now create the count column that will identify which users have genuinely posted more than once."
   ]
  },
  {
   "cell_type": "code",
   "execution_count": 16,
   "metadata": {
    "collapsed": false,
    "deletable": true,
    "editable": true
   },
   "outputs": [
    {
     "name": "stdout",
     "output_type": "stream",
     "text": [
      "+------------------+-----+--------------------+-----+-----------+\n",
      "|            UserId|label|                Text|Score|reviewCount|\n",
      "+------------------+-----+--------------------+-----+-----------+\n",
      "|#oc-R35YUP5T21KW2U|  0.0|Extremely disappo...|    1|          1|\n",
      "|    A10AZVYK32ZJSE|  1.0|Got this item bec...|    4|          1|\n",
      "|    A10Q1QIHVXKT8M|  1.0|I have two large ...|    5|          1|\n",
      "|    A11DAGJ4ZRNTDE|  1.0|\"I use this oil i...|    5|          1|\n",
      "|    A11G8FJESD56FN|  0.0|I had high expect...|    1|          2|\n",
      "|    A11G8FJESD56FN|  1.0|After reading the...|    1|          2|\n",
      "|    A11MCNZSTBW4UE|  0.0|I have 3 kids and...|    5|          1|\n",
      "|    A11N045YYLW4NU|  1.0|Very good product...|    5|          1|\n",
      "|    A11PM0C1979EZA|  1.0|This is the first...|    1|          1|\n",
      "|    A11Q181FHIVLF0|  0.0|I have been using...|    5|          1|\n",
      "+------------------+-----+--------------------+-----+-----------+\n",
      "only showing top 10 rows\n",
      "\n"
     ]
    },
    {
     "data": {
      "text/plain": [
       "61327"
      ]
     },
     "execution_count": 16,
     "metadata": {},
     "output_type": "execute_result"
    }
   ],
   "source": [
    "from pyspark.sql import functions as F\n",
    "\n",
    "# aggregate the data\n",
    "df_count = df.groupby('UserId').agg(F.count(\"Score\").alias(\"reviewCount\"))\n",
    "\n",
    "# append back to df\n",
    "df = df.join(df_count, 'UserId')\n",
    "df.show(10)\n",
    "df.count()"
   ]
  },
  {
   "cell_type": "code",
   "execution_count": 17,
   "metadata": {
    "collapsed": true,
    "deletable": true,
    "editable": true
   },
   "outputs": [],
   "source": [
    "# change reviewCount from 'bigint' to 'double'\n",
    "df = df.select(df.label, df.Text, df.Score, df.reviewCount.cast(\"double\"))\n",
    "\n",
    "# rename 'Text' column to 'reviewText'\n",
    "df = df.withColumnRenamed(\"Text\", \"reviewText\")"
   ]
  },
  {
   "cell_type": "markdown",
   "metadata": {
    "deletable": true,
    "editable": true
   },
   "source": [
    "### Remove punctuation from 'reviewText'\n",
    "Source: https://mashimo.wordpress.com/tag/spark/"
   ]
  },
  {
   "cell_type": "code",
   "execution_count": 18,
   "metadata": {
    "collapsed": true,
    "deletable": true,
    "editable": true
   },
   "outputs": [],
   "source": [
    "from pyspark.sql.functions import regexp_replace, trim, col, lower\n",
    "\n",
    "def removePunctuation(column):\n",
    "  \"\"\"Removes punctuation, changes to lower case, and strips leading and trailing spaces.\n",
    "  Note:\n",
    "    Only spaces, letters, and numbers should be retained. Other characters \n",
    "    should should be eliminated (e.g. it's becomes its). Leading and \n",
    "    trailing spaces should be removed after punctuation is removed.\n",
    "  Args:\n",
    "    column (Column): A Column containing a sentence.\n",
    "  Returns:\n",
    "    Column: A Column named 'sentence' with clean-up operations applied.\n",
    "  \"\"\"\n",
    "  return trim(lower(regexp_replace(column, '([^\\s\\w_]|_)+', ''))).alias('reviewTextNoPunc')"
   ]
  },
  {
   "cell_type": "code",
   "execution_count": 19,
   "metadata": {
    "collapsed": false,
    "deletable": true,
    "editable": true
   },
   "outputs": [
    {
     "name": "stdout",
     "output_type": "stream",
     "text": [
      "+-----+--------------------+-----+-----------+\n",
      "|label|    reviewTextNoPunc|Score|reviewCount|\n",
      "+-----+--------------------+-----+-----------+\n",
      "|  0.0|extremely disappo...|    1|        1.0|\n",
      "|  1.0|got this item bec...|    4|        1.0|\n",
      "|  1.0|i have two large ...|    5|        1.0|\n",
      "|  1.0|i use this oil in...|    5|        1.0|\n",
      "|  0.0|i had high expect...|    1|        2.0|\n",
      "|  1.0|after reading the...|    1|        2.0|\n",
      "|  0.0|i have 3 kids and...|    5|        1.0|\n",
      "|  1.0|very good product...|    5|        1.0|\n",
      "|  1.0|this is the first...|    1|        1.0|\n",
      "|  0.0|i have been using...|    5|        1.0|\n",
      "+-----+--------------------+-----+-----------+\n",
      "only showing top 10 rows\n",
      "\n"
     ]
    }
   ],
   "source": [
    "# remove punctuation\n",
    "df = df.select(df.label, removePunctuation(col('reviewText')), df.Score, df.reviewCount)\n",
    "df.show(10)"
   ]
  },
  {
   "cell_type": "markdown",
   "metadata": {
    "deletable": true,
    "editable": true
   },
   "source": [
    "We now have a data frame with the following input features:\n",
    "+ Text: the text contained within the review\n",
    "+ Score: the score for the product given by the reviewer\n",
    "+ Count: the number of times a user has posted: intuitively, the more a user posts, the more useful a review will be."
   ]
  },
  {
   "cell_type": "markdown",
   "metadata": {
    "deletable": true,
    "editable": true
   },
   "source": [
    "## Create train and test set"
   ]
  },
  {
   "cell_type": "code",
   "execution_count": 20,
   "metadata": {
    "collapsed": false,
    "deletable": true,
    "editable": true
   },
   "outputs": [
    {
     "name": "stdout",
     "output_type": "stream",
     "text": [
      "Total document count: 61327\n",
      "Training-set count: 55310\n",
      "Test-set count: 6017\n"
     ]
    }
   ],
   "source": [
    "#Create the training and testing set from the dataframe above\n",
    "#randomSplit - splits the Df into training/testing using the weights \n",
    "#you can try other combinations of weights\n",
    "train_set, test_set = df.randomSplit([0.9, 0.1], 123) # due to large number of examples,90/10 split chosen\n",
    "print (\"Total document count:\",df.count())\n",
    "print (\"Training-set count:\",train_set.count())\n",
    "print (\"Test-set count:\",test_set.count())"
   ]
  },
  {
   "cell_type": "markdown",
   "metadata": {
    "deletable": true,
    "editable": true
   },
   "source": [
    "## Set up the transformers and estimators / set up pipeline: Tokenizer, stopwords, hashing, IDF "
   ]
  },
  {
   "cell_type": "code",
   "execution_count": 21,
   "metadata": {
    "collapsed": false,
    "deletable": true,
    "editable": true
   },
   "outputs": [],
   "source": [
    "# packages\n",
    "from pyspark.ml.linalg import Vector\n",
    "from pyspark.ml import Pipeline, PipelineModel\n",
    "\n",
    "from pyspark.ml.classification import LogisticRegression\n",
    "from pyspark.ml.classification import RandomForestClassifier\n",
    "from pyspark.ml.classification import GBTClassifier\n",
    "\n",
    "from pyspark.ml.feature import HashingTF,StopWordsRemover,IDF,Tokenizer\n",
    "from pyspark.ml.feature import IndexToString, StringIndexer, VectorIndexer, OneHotEncoder, VectorAssembler\n",
    "\n",
    "from pyspark.ml.evaluation import MulticlassClassificationEvaluator\n",
    "from pyspark.ml.tuning import ParamGridBuilder, CrossValidator\n",
    "from pyspark.ml.evaluation import BinaryClassificationEvaluator\n",
    "\n",
    "\n",
    "#Constructing a pipeline\n",
    "\n",
    "# String to index transformer e.g. Score is a string of 1-5, but need it as an index which can be one-hot encoded\n",
    "scoreIndexer = StringIndexer(inputCol = \"Score\", outputCol = \"indexedScore\")\n",
    "\n",
    "# One-hot encoder on the indexed feature(s)\n",
    "scoreEncoder = OneHotEncoder(inputCol = \"indexedScore\", outputCol = \"scoreVec\")\n",
    "\n",
    "#We split each sentence into words using Tokenizer. \n",
    "#Tokenizer only splits by white spaces\n",
    "tokenizer = Tokenizer().setInputCol(\"reviewTextNoPunc\").setOutputCol(\"words\")\n",
    "\n",
    "#Remove stopwords\n",
    "remover= StopWordsRemover().setInputCol(\"words\").setOutputCol(\"filtered\").setCaseSensitive(False)\n",
    "\n",
    "#For each sentence (bag of words),use HashingTF to hash the sentence into a feature vector. \n",
    "hashingTF = HashingTF().setInputCol(\"filtered\").setOutputCol(\"rawFeatures\") # .setNumFeatures(50000)\n",
    "\n",
    "#We use IDF to rescale the feature vectors; this generally improves performance when using text as features.\n",
    "idf = IDF().setInputCol(\"rawFeatures\").setOutputCol(\"idfFeature\").setMinDocFreq(0)\n",
    "\n",
    "# Assemble the vector of features\n",
    "assembler = VectorAssembler(inputCols = [\"scoreVec\", \"idfFeature\", \"reviewCount\"], outputCol = \"features\")\n",
    "\n",
    "#Our feature vectors could then be passed to a learning algorithm.\n",
    "# Create a Logistic regression model\n",
    "lr = LogisticRegression(labelCol = \"label\")\n",
    "\n",
    "# NOTE: there is an issue with the format of label. cf and rf don't like it when label is a float\n",
    "cf = DecisionTreeClassifier()\n",
    "rf = RandomForestClassifier(labelCol=\"label\", featuresCol=\"features\")\n",
    "nb = NaiveBayes()\n",
    "gbt = GBTClassifier(labelCol = \"label\", featuresCol = \"features\", maxIter=20)\n",
    "\n",
    "#Then basically we connect all the steps above to create one pipeline\n",
    "pipeline=Pipeline(stages=[scoreIndexer, scoreEncoder, tokenizer,remover,hashingTF,idf,assembler, lr])"
   ]
  },
  {
   "cell_type": "markdown",
   "metadata": {
    "deletable": true,
    "editable": true
   },
   "source": [
    "## Fit the  pipeline "
   ]
  },
  {
   "cell_type": "code",
   "execution_count": 22,
   "metadata": {
    "collapsed": false,
    "deletable": true,
    "editable": true,
    "scrolled": true
   },
   "outputs": [
    {
     "name": "stdout",
     "output_type": "stream",
     "text": [
      "CPU times: user 2.61 s, sys: 988 ms, total: 3.6 s\n",
      "Wall time: 1h 13min 25s\n"
     ]
    }
   ],
   "source": [
    "#Use the pipeline option to fit the training set and create a model\n",
    "\n",
    "# Jupyter offers a simpler way to take the time thanwe used in the coursework. \n",
    "\n",
    "\n",
    "# After we construct this ML pipeline,we can fit it to the training data\n",
    "# and obtain a trained pipeline model that can be used for prediction.\n",
    "%time model=pipeline.fit(train_set)"
   ]
  },
  {
   "cell_type": "markdown",
   "metadata": {
    "deletable": true,
    "editable": true
   },
   "source": [
    "## Evaluate the pipeline (without tuning hyperparameters)"
   ]
  },
  {
   "cell_type": "code",
   "execution_count": 23,
   "metadata": {
    "collapsed": false,
    "deletable": true,
    "editable": true
   },
   "outputs": [
    {
     "name": "stdout",
     "output_type": "stream",
     "text": [
      "+--------------------+--------------------+----------+-----+\n",
      "|    reviewTextNoPunc|         probability|prediction|label|\n",
      "+--------------------+--------------------+----------+-----+\n",
      "|and they arent so...|[4.53377539254321...|       1.0|  0.0|\n",
      "|dear amazoncombr ...|[0.23597536770555...|       1.0|  0.0|\n",
      "|i am laughing whi...|[1.0,1.5278552527...|       0.0|  0.0|\n",
      "|i grew up drinkin...|[0.26776949661259...|       1.0|  0.0|\n",
      "|i say the food ma...|[0.99987128496414...|       0.0|  0.0|\n",
      "|okay im a very ca...|[2.38675150682009...|       1.0|  0.0|\n",
      "|the miracle noodl...|[0.99565205274726...|       0.0|  0.0|\n",
      "|for those who hav...|[2.11567190293639...|       1.0|  1.0|\n",
      "|got two big bags ...|[0.00100552318697...|       1.0|  1.0|\n",
      "|i am a soda fan a...|[9.71925377304958...|       1.0|  1.0|\n",
      "|i am disgusted th...|[2.68567237316056...|       1.0|  1.0|\n",
      "|i bought the bund...|[9.94716747075336...|       1.0|  1.0|\n",
      "|i dont have cance...|[0.07634338426909...|       1.0|  1.0|\n",
      "|i drink strong bl...|[2.45731098898060...|       1.0|  1.0|\n",
      "|i found a bottle ...|[3.22942209015979...|       1.0|  1.0|\n",
      "|i had farro at a ...|[0.00207449652694...|       1.0|  1.0|\n",
      "|i had gastric byp...|[1.50005788430742...|       1.0|  1.0|\n",
      "|i love coffee and...|[1.06764581153731...|       1.0|  1.0|\n",
      "|i love this produ...|[0.86816673903800...|       0.0|  1.0|\n",
      "|i started using t...|[0.01041015371361...|       1.0|  1.0|\n",
      "+--------------------+--------------------+----------+-----+\n",
      "only showing top 20 rows\n",
      "\n"
     ]
    }
   ],
   "source": [
    "# After we obtain a fitted pipeline model, we want to know how well it performs. \n",
    "\n",
    "test_predictions = model.transform(test_set) #transform() used to make predictions on the test set\n",
    "train_predictions = model.transform(train_set)\n",
    "\n",
    "#Show the predicted labels along with true labels and raw texts.\n",
    "test_predictions.select(\"reviewTextNoPunc\",\"probability\",\"prediction\",\"label\").show()"
   ]
  },
  {
   "cell_type": "code",
   "execution_count": 24,
   "metadata": {
    "collapsed": false,
    "deletable": true,
    "editable": true,
    "scrolled": true
   },
   "outputs": [
    {
     "name": "stdout",
     "output_type": "stream",
     "text": [
      "Area under precision-recall curve - training: 0.9997293852434521\n",
      "Area under precision-recall curve - testing: 0.7873379023798541\n"
     ]
    }
   ],
   "source": [
    "# evaluate the model quantitatively.\n",
    "\n",
    "# for GBT (also works for dt, :\n",
    "#evaluator = MulticlassClassificationEvaluator().setMetricName(\"f1\") #  (supports \"f1\" (default), \"weightedPrecision\", \"weightedRecall\", \"accuracy\")\n",
    "\n",
    "# for LR:\n",
    "evaluator = BinaryClassificationEvaluator().setMetricName(\"areaUnderPR\") # supports \"areaUnderROC\" (default), \"areaUnderPR\"\n",
    "\n",
    "print (\"Area under precision-recall curve - training:\",evaluator.evaluate(train_predictions))\n",
    "print (\"Area under precision-recall curve - testing:\",evaluator.evaluate(test_predictions))"
   ]
  },
  {
   "cell_type": "markdown",
   "metadata": {
    "deletable": true,
    "editable": true
   },
   "source": [
    "# Tune model with hyperparameters\n",
    "## Set up the grid search parameters"
   ]
  },
  {
   "cell_type": "markdown",
   "metadata": {
    "deletable": true,
    "editable": true
   },
   "source": [
    "#### print an explanation of the parameters available to LogisticRegression()"
   ]
  },
  {
   "cell_type": "code",
   "execution_count": 25,
   "metadata": {
    "collapsed": false,
    "deletable": true,
    "editable": true,
    "scrolled": false
   },
   "outputs": [
    {
     "name": "stdout",
     "output_type": "stream",
     "text": [
      "elasticNetParam: the ElasticNet mixing parameter, in range [0, 1]. For alpha = 0, the penalty is an L2 penalty. For alpha = 1, it is an L1 penalty. (default: 0.0)\n",
      "featuresCol: features column name. (default: features)\n",
      "fitIntercept: whether to fit an intercept term. (default: True)\n",
      "labelCol: label column name. (default: label, current: label)\n",
      "maxIter: max number of iterations (>= 0). (default: 100)\n",
      "predictionCol: prediction column name. (default: prediction)\n",
      "probabilityCol: Column name for predicted class conditional probabilities. Note: Not all models output well-calibrated probability estimates! These probabilities should be treated as confidences, not precise probabilities. (default: probability)\n",
      "rawPredictionCol: raw prediction (a.k.a. confidence) column name. (default: rawPrediction)\n",
      "regParam: regularization parameter (>= 0). (default: 0.0)\n",
      "standardization: whether to standardize the training features before fitting the model. (default: True)\n",
      "threshold: Threshold in binary classification prediction, in range [0, 1]. If threshold and thresholds are both set, they must match.e.g. if threshold is p, then thresholds must be equal to [1-p, p]. (default: 0.5)\n",
      "thresholds: Thresholds in multi-class classification to adjust the probability of predicting each class. Array must have length equal to the number of classes, with values >= 0. The class with largest value p/t is predicted, where p is the original probability of that class and t is the class' threshold. (undefined)\n",
      "tol: the convergence tolerance for iterative algorithms (>= 0). (default: 1e-06)\n",
      "weightCol: weight column name. If this is not set or empty, we treat all instance weights as 1.0. (undefined)\n"
     ]
    }
   ],
   "source": [
    "print(lr.explainParams())"
   ]
  },
  {
   "cell_type": "code",
   "execution_count": 26,
   "metadata": {
    "collapsed": false,
    "deletable": true,
    "editable": true
   },
   "outputs": [
    {
     "name": "stdout",
     "output_type": "stream",
     "text": [
      "binary: If True, all non zero counts are set to 1. This is useful for discrete probabilistic models that model binary events rather than integer counts. Default False. (default: False)\n",
      "inputCol: input column name. (current: filtered)\n",
      "numFeatures: number of features. (default: 262144)\n",
      "outputCol: output column name. (default: HashingTF_4279af57f656e3e671b2__output, current: rawFeatures)\n"
     ]
    }
   ],
   "source": [
    "print(hashingTF.explainParams())"
   ]
  },
  {
   "cell_type": "markdown",
   "metadata": {
    "deletable": true,
    "editable": true
   },
   "source": [
    "### Set up the parameter grid to determine the impact of the regularisation parameter and the hashingTF vector size"
   ]
  },
  {
   "cell_type": "code",
   "execution_count": 27,
   "metadata": {
    "collapsed": false,
    "deletable": true,
    "editable": true
   },
   "outputs": [],
   "source": [
    "import numpy as np\n",
    "\n",
    "#We use a ParamGridBuilder to construct a grid of parameters to search over.\n",
    "\n",
    "#With 3 values for hashingTF.numFeatures and 3 values for idf,\n",
    "# this grid will have 3 x 3 = 9 parameter settings for CrossValidator to choose from. ############################\n",
    "lr_reg_values = list(np.logspace(-5, 5, 3))\n",
    "lr_elas_values = [0.1, 0.5, 0.9]\n",
    "\n",
    "# i.e. the feature preprocessing step\n",
    "#i.e. the machine learning parameter\n",
    "paramGrid = ParamGridBuilder()\\\n",
    "    .addGrid(hashingTF.numFeatures,[50, 500, 2500])\\\n",
    "    .addGrid(lr.regParam, lr_reg_values)\\\n",
    "    .build()\n",
    "\n",
    "    #   .addGrid(lr.elasticNetParam, lr_elas_values)\\ \n",
    "# .addGrid(hashingTF.numFeatures,[1000, 5000, 10000, 500000, 100000])\\\n",
    "      \n",
    "#.addGrid(idf.minDocFreq,[0,10,100])\\"
   ]
  },
  {
   "cell_type": "code",
   "execution_count": 28,
   "metadata": {
    "collapsed": false,
    "deletable": true,
    "editable": true,
    "scrolled": true
   },
   "outputs": [
    {
     "data": {
      "text/plain": [
       "[{Param(parent='HashingTF_4279af57f656e3e671b2', name='numFeatures', doc='number of features.'): 50,\n",
       "  Param(parent='LogisticRegression_4b2da37ddbfb29079c71', name='regParam', doc='regularization parameter (>= 0).'): 1e-05},\n",
       " {Param(parent='HashingTF_4279af57f656e3e671b2', name='numFeatures', doc='number of features.'): 50,\n",
       "  Param(parent='LogisticRegression_4b2da37ddbfb29079c71', name='regParam', doc='regularization parameter (>= 0).'): 1.0},\n",
       " {Param(parent='HashingTF_4279af57f656e3e671b2', name='numFeatures', doc='number of features.'): 50,\n",
       "  Param(parent='LogisticRegression_4b2da37ddbfb29079c71', name='regParam', doc='regularization parameter (>= 0).'): 100000.0},\n",
       " {Param(parent='HashingTF_4279af57f656e3e671b2', name='numFeatures', doc='number of features.'): 500,\n",
       "  Param(parent='LogisticRegression_4b2da37ddbfb29079c71', name='regParam', doc='regularization parameter (>= 0).'): 1e-05},\n",
       " {Param(parent='HashingTF_4279af57f656e3e671b2', name='numFeatures', doc='number of features.'): 500,\n",
       "  Param(parent='LogisticRegression_4b2da37ddbfb29079c71', name='regParam', doc='regularization parameter (>= 0).'): 1.0},\n",
       " {Param(parent='HashingTF_4279af57f656e3e671b2', name='numFeatures', doc='number of features.'): 500,\n",
       "  Param(parent='LogisticRegression_4b2da37ddbfb29079c71', name='regParam', doc='regularization parameter (>= 0).'): 100000.0},\n",
       " {Param(parent='HashingTF_4279af57f656e3e671b2', name='numFeatures', doc='number of features.'): 2500,\n",
       "  Param(parent='LogisticRegression_4b2da37ddbfb29079c71', name='regParam', doc='regularization parameter (>= 0).'): 1e-05},\n",
       " {Param(parent='HashingTF_4279af57f656e3e671b2', name='numFeatures', doc='number of features.'): 2500,\n",
       "  Param(parent='LogisticRegression_4b2da37ddbfb29079c71', name='regParam', doc='regularization parameter (>= 0).'): 1.0},\n",
       " {Param(parent='HashingTF_4279af57f656e3e671b2', name='numFeatures', doc='number of features.'): 2500,\n",
       "  Param(parent='LogisticRegression_4b2da37ddbfb29079c71', name='regParam', doc='regularization parameter (>= 0).'): 100000.0}]"
      ]
     },
     "execution_count": 28,
     "metadata": {},
     "output_type": "execute_result"
    }
   ],
   "source": [
    "paramGrid"
   ]
  },
  {
   "cell_type": "markdown",
   "metadata": {
    "deletable": true,
    "editable": true
   },
   "source": [
    "## Evaluation using TrainValidationSplit() - note: faster but less reliable"
   ]
  },
  {
   "cell_type": "markdown",
   "metadata": {
    "deletable": true,
    "editable": true
   },
   "source": [
    "TrainValidationSplit() is less expensive but won't produce as relaible results on a small training set.\n",
    "\n",
    "A TrainValidationSplit requires an Estimator, a set of Estimator ParamMaps, and an Evaluator."
   ]
  },
  {
   "cell_type": "code",
   "execution_count": 29,
   "metadata": {
    "collapsed": false,
    "deletable": true,
    "editable": true
   },
   "outputs": [
    {
     "name": "stdout",
     "output_type": "stream",
     "text": [
      "+--------------------+--------------------+----------+-----+\n",
      "|    reviewTextNoPunc|         probability|prediction|label|\n",
      "+--------------------+--------------------+----------+-----+\n",
      "|and they arent so...|[0.29251681635931...|       1.0|  0.0|\n",
      "|dear amazoncombr ...|[0.29369101918999...|       1.0|  0.0|\n",
      "|i am laughing whi...|[0.41717554831513...|       1.0|  0.0|\n",
      "|i grew up drinkin...|[0.43688558066758...|       1.0|  0.0|\n",
      "|i say the food ma...|[0.29966129702375...|       1.0|  0.0|\n",
      "|okay im a very ca...|[0.21874843935537...|       1.0|  0.0|\n",
      "|the miracle noodl...|[0.44291340913706...|       1.0|  0.0|\n",
      "|for those who hav...|[0.15779719800194...|       1.0|  1.0|\n",
      "|got two big bags ...|[0.24231556672479...|       1.0|  1.0|\n",
      "|i am a soda fan a...|[0.20824775775624...|       1.0|  1.0|\n",
      "|i am disgusted th...|[0.43759026082506...|       1.0|  1.0|\n",
      "|i bought the bund...|[0.23596344363638...|       1.0|  1.0|\n",
      "|i dont have cance...|[0.35024227884077...|       1.0|  1.0|\n",
      "|i drink strong bl...|[0.16411711894234...|       1.0|  1.0|\n",
      "|i found a bottle ...|[0.21991130499364...|       1.0|  1.0|\n",
      "|i had farro at a ...|[0.22773396345929...|       1.0|  1.0|\n",
      "|i had gastric byp...|[0.20203418593788...|       1.0|  1.0|\n",
      "|i love coffee and...|[0.21521311643067...|       1.0|  1.0|\n",
      "|i love this produ...|[0.15472538217734...|       1.0|  1.0|\n",
      "|i started using t...|[0.20600757176660...|       1.0|  1.0|\n",
      "+--------------------+--------------------+----------+-----+\n",
      "only showing top 20 rows\n",
      "\n"
     ]
    }
   ],
   "source": [
    "tvs = TrainValidationSplit(estimator=pipeline,\n",
    "                           estimatorParamMaps=paramGrid,\n",
    "                           evaluator=BinaryClassificationEvaluator().setMetricName(\"areaUnderPR\"),\n",
    "                           # 80% of the data will be used for training, 20% for validation.\n",
    "                           trainRatio=0.8)\n",
    "\n",
    "tuned_model = tvs.fit(train_set) # fit the optimal model as determined via TVS gridsearch\n",
    "\n",
    "# Make predictions on test data. model is the model with combination of parameters\n",
    "# that performed best.\n",
    "#model.transform(test_set)\\\n",
    "   # .select(\"Text\", \"probability\", \"prediction\", \"label\")\\\n",
    "   # .show()\n",
    "\n",
    "#You can simply use the .transform() on the test set to make predictions on the test set\n",
    "test_predictions = tuned_model.transform(test_set)\n",
    "train_predictions = tuned_model.transform(train_set)\n",
    "\n",
    "test_predictions.select(\"reviewTextNoPunc\",\"probability\",\"prediction\",\"label\").show()"
   ]
  },
  {
   "cell_type": "code",
   "execution_count": 30,
   "metadata": {
    "collapsed": false,
    "deletable": true,
    "editable": true,
    "scrolled": true
   },
   "outputs": [
    {
     "data": {
      "text/plain": [
       "[0.8966537369590957,\n",
       " 0.887640603120219,\n",
       " 0.8559673169693522,\n",
       " 0.8998961540883478,\n",
       " 0.8934771735388618,\n",
       " 0.8527657449323489,\n",
       " 0.8956012084491871,\n",
       " 0.9008419918917835,\n",
       " 0.8686924087892259]"
      ]
     },
     "execution_count": 30,
     "metadata": {},
     "output_type": "execute_result"
    }
   ],
   "source": [
    "results = tuned_model.validationMetrics\n",
    "results"
   ]
  },
  {
   "cell_type": "code",
   "execution_count": 31,
   "metadata": {
    "collapsed": false,
    "deletable": true,
    "editable": true,
    "scrolled": true
   },
   "outputs": [],
   "source": [
    "#grid_results = tuned_model.validationMetrics\n",
    "grid_reshape = np.reshape(results, (3,3)) ######### check this is the right way around...\n",
    "#grid_reshape"
   ]
  },
  {
   "cell_type": "code",
   "execution_count": 32,
   "metadata": {
    "collapsed": true,
    "deletable": true,
    "editable": true
   },
   "outputs": [],
   "source": [
    "import matplotlib.pyplot as plt\n"
   ]
  },
  {
   "cell_type": "markdown",
   "metadata": {
    "deletable": true,
    "editable": true
   },
   "source": [
    "## Heatmap of ML param grid search results"
   ]
  },
  {
   "cell_type": "code",
   "execution_count": 50,
   "metadata": {
    "collapsed": false,
    "deletable": true,
    "editable": true
   },
   "outputs": [
    {
     "data": {
      "text/plain": [
       "<matplotlib.text.Text at 0x7f55db953898>"
      ]
     },
     "execution_count": 50,
     "metadata": {},
     "output_type": "execute_result"
    },
    {
     "data": {
      "image/png": "[encoded data removed]",
      "text/plain": [
       "<matplotlib.figure.Figure at 0x7f55db93cc88>"
      ]
     },
     "metadata": {},
     "output_type": "display_data"
    }
   ],
   "source": [
    "import seaborn as sns\n",
    "sns.heatmap(grid_reshape, cmap='Blues', annot=True)\n",
    "plt.xlabel('RegParam')\n",
    "plt.ylabel('ElasticParam')"
   ]
  },
  {
   "cell_type": "code",
   "execution_count": 34,
   "metadata": {
    "collapsed": false,
    "deletable": true,
    "editable": true
   },
   "outputs": [
    {
     "name": "stdout",
     "output_type": "stream",
     "text": [
      "Area under precision-recall curve - training: 0.908030706798117\n",
      "Area under precision-recall curve - testing: 0.8957374196681749\n"
     ]
    }
   ],
   "source": [
    "# evaluate the optimal model quantitatively.\n",
    "\n",
    "evaluator = BinaryClassificationEvaluator().setMetricName(\"areaUnderPR\")\n",
    "print (\"Area under precision-recall curve - training:\",evaluator.evaluate(train_predictions))\n",
    "print (\"Area under precision-recall curve - testing:\",evaluator.evaluate(test_predictions))"
   ]
  },
  {
   "cell_type": "code",
   "execution_count": 35,
   "metadata": {
    "collapsed": false
   },
   "outputs": [
    {
     "name": "stdout",
     "output_type": "stream",
     "text": [
      "Test set accuracy: 0.7254445737078278\n"
     ]
    }
   ],
   "source": [
    "print (\"Test set accuracy:\",test_predictions.filter((test_predictions['prediction'] == test_predictions['label'])).count() / test_predictions.select(\"label\").count())"
   ]
  },
  {
   "cell_type": "markdown",
   "metadata": {
    "collapsed": false,
    "deletable": true,
    "editable": true
   },
   "source": [
    "# Running Experiments for Other Feature types\n",
    "Below sections fit pipelines and generate grid search results for other feature types: Ngram, Hashing Vector, Word2Vec"
   ]
  },
  {
   "cell_type": "code",
   "execution_count": 36,
   "metadata": {
    "collapsed": true
   },
   "outputs": [],
   "source": [
    "# packages\n",
    "from pyspark.ml.linalg import Vector\n",
    "from pyspark.ml import Pipeline, PipelineModel\n",
    "\n",
    "from pyspark.ml.classification import LogisticRegression\n",
    "from pyspark.ml.classification import RandomForestClassifier\n",
    "from pyspark.ml.classification import GBTClassifier\n",
    "\n",
    "from pyspark.ml.feature import HashingTF,StopWordsRemover,IDF,Tokenizer\n",
    "from pyspark.ml.feature import IndexToString, StringIndexer, VectorIndexer, OneHotEncoder, VectorAssembler\n",
    "\n",
    "from pyspark.ml.evaluation import MulticlassClassificationEvaluator\n",
    "from pyspark.ml.tuning import ParamGridBuilder, CrossValidator\n",
    "from pyspark.ml.evaluation import BinaryClassificationEvaluator"
   ]
  },
  {
   "cell_type": "markdown",
   "metadata": {},
   "source": [
    "## For Hashing Vectors"
   ]
  },
  {
   "cell_type": "code",
   "execution_count": 52,
   "metadata": {
    "collapsed": true
   },
   "outputs": [],
   "source": [
    "def get_hashvector_pipeline(hv_param=500,ml_param=0):\n",
    "    #Constructing a pipeline for hash vetctors\n",
    "\n",
    "    # String to index transformer e.g. Score is a string of 1-5, but need it as an index which can be one-hot encoded\n",
    "    scoreIndexer = StringIndexer(inputCol = \"Score\", outputCol = \"indexedScore\")\n",
    "\n",
    "    # One-hot encoder on the indexed feature(s)\n",
    "    scoreEncoder = OneHotEncoder(inputCol = \"indexedScore\", outputCol = \"scoreVec\")\n",
    "\n",
    "    #We split each sentence into words using Tokenizer. \n",
    "    #Tokenizer only splits by white spaces\n",
    "    tokenizer = Tokenizer().setInputCol(\"reviewTextNoPunc\").setOutputCol(\"words\")\n",
    "\n",
    "    #Remove stopwords\n",
    "    remover= StopWordsRemover().setInputCol(\"words\").setOutputCol(\"filtered\").setCaseSensitive(False)\n",
    "\n",
    "    #For each sentence (bag of words),use HashingTF to hash the sentence into a feature vector. \n",
    "    hashingTF = HashingTF().setNumFeatures(hv_param).setInputCol(\"filtered\").setOutputCol(\"rawFeatures\")\n",
    "\n",
    "    #We use IDF to rescale the feature vectors; this generally improves performance when using text as features.\n",
    "    idf = IDF().setInputCol(\"rawFeatures\").setOutputCol(\"idfFeature\").setMinDocFreq(0)\n",
    "\n",
    "    # Assemble the vector of features\n",
    "    assembler = VectorAssembler(inputCols = [\"scoreVec\", \"idfFeature\", \"reviewCount\"], outputCol = \"features\")\n",
    "\n",
    "    #Our feature vectors could then be passed to a learning algorithm.\n",
    "    # Create a Logistic regression model\n",
    "    lr = LogisticRegression(elasticNetParam=ml_param, labelCol = \"label\")\n",
    "    \n",
    "    #Then basically we connect all the steps above to create one pipeline\n",
    "    pipeline=Pipeline(stages=[scoreIndexer, scoreEncoder, tokenizer, remover, hashingTF, idf, assembler, lr])\n",
    "    return pipeline\n",
    "\n",
    "def get_hashvector_paramgrid(value_list):\n",
    "    hashingTF = HashingTF().setNumFeatures(500).setInputCol(\"filtered\").setOutputCol(\"rawFeatures\")\n",
    "    lr = LogisticRegression(labelCol = \"label\")\n",
    "    #and associated params\n",
    "    paramGrid = ParamGridBuilder()\\\n",
    "        .addGrid(hashingTF.numFeatures,value_list)\\\n",
    "        .addGrid(lr.elasticNetParam, [0]) \\\n",
    "        .build() \\\n",
    "        #.addGrid(lr.setRegParam, lr_values)\\\n",
    "    return paramGrid"
   ]
  },
  {
   "cell_type": "markdown",
   "metadata": {},
   "source": [
    "## For nGrams"
   ]
  },
  {
   "cell_type": "code",
   "execution_count": 53,
   "metadata": {
    "collapsed": true
   },
   "outputs": [],
   "source": [
    "def get_ngram_pipeline(ng_param=2,ml_param=0):\n",
    "    #Constructing a pipeline for hash vetctors\n",
    "\n",
    "    # String to index transformer e.g. Score is a string of 1-5, but need it as an index which can be one-hot encoded\n",
    "    scoreIndexer = StringIndexer(inputCol = \"Score\", outputCol = \"indexedScore\")\n",
    "\n",
    "    # One-hot encoder on the indexed feature(s)\n",
    "    scoreEncoder = OneHotEncoder(inputCol = \"indexedScore\", outputCol = \"scoreVec\")\n",
    "\n",
    "    #We split each sentence into words using Tokenizer. \n",
    "    #Tokenizer only splits by white spaces\n",
    "    tokenizer = Tokenizer().setInputCol(\"reviewTextNoPunc\").setOutputCol(\"words\")\n",
    "\n",
    "    #Remove stopwords\n",
    "    #remover= StopWordsRemover().setInputCol(\"words\").setOutputCol(\"filtered\").setCaseSensitive(False)\n",
    "\n",
    "    #For each sentence (bag of words), generate n-grams\n",
    "    nGram = NGram(n=ng_param, inputCol=\"words\", outputCol=\"rawFeatures\") \n",
    "    vectorizer = CountVectorizer(inputCol=\"rawFeatures\", outputCol=\"rawFeaturesvec\")\n",
    "\n",
    "    #We use IDF to rescale the feature vectors; this generally improves performance when using text as features.\n",
    "    idf = IDF().setInputCol(\"rawFeaturesvec\").setOutputCol(\"idfFeature\").setMinDocFreq(0)\n",
    "\n",
    "    # Assemble the vector of features\n",
    "    assembler = VectorAssembler(inputCols = [\"scoreVec\", \"idfFeature\", \"reviewCount\"], outputCol = \"features\")\n",
    "\n",
    "    #Our feature vectors could then be passed to a learning algorithm.\n",
    "    # Create a Logistic regression model\n",
    "    lr = LogisticRegression(elasticNetParam=ml_param, labelCol = \"label\")\n",
    "\n",
    "    #Then basically we connect all the steps above to create one pipeline\n",
    "    pipeline=Pipeline(stages=[scoreIndexer, scoreEncoder, tokenizer, nGram, vectorizer, idf,assembler, lr])\n",
    "    return pipeline\n",
    "\n",
    "def get_ngram_paramgrid(value_list):\n",
    "    nGram = NGram(n=2, inputCol=\"filtered\", outputCol=\"rawFeatures\") \n",
    "    lr = LogisticRegression(labelCol = \"label\")\n",
    "    #and associated params\n",
    "    paramGrid = ParamGridBuilder()\\\n",
    "        .addGrid(nGram.n,value_list)\\\n",
    "        .addGrid(lr.elasticNetParam, [0]) \\\n",
    "        .build() \\\n",
    "        #.addGrid(lr.setRegParam, lr_values)\\\n",
    "    return paramGrid"
   ]
  },
  {
   "cell_type": "markdown",
   "metadata": {},
   "source": [
    "## For Word2Vec"
   ]
  },
  {
   "cell_type": "code",
   "execution_count": 54,
   "metadata": {
    "collapsed": true
   },
   "outputs": [],
   "source": [
    "def get_w2v_pipeline(w2_param=3,ml_param=0):\n",
    "    #Constructing a pipeline for Word2Vector\n",
    "\n",
    "    # String to index transformer e.g. Score is a string of 1-5, but need it as an index which can be one-hot encoded\n",
    "    scoreIndexer = StringIndexer(inputCol = \"Score\", outputCol = \"indexedScore\")\n",
    "\n",
    "    # One-hot encoder on the indexed feature(s)\n",
    "    scoreEncoder = OneHotEncoder(inputCol = \"indexedScore\", outputCol = \"scoreVec\")\n",
    "\n",
    "    #We split each sentence into words using Tokenizer. \n",
    "    #Tokenizer only splits by white spaces\n",
    "    tokenizer = Tokenizer().setInputCol(\"reviewTextNoPunc\").setOutputCol(\"words\")\n",
    "\n",
    "    #Remove stopwords\n",
    "    #remover= StopWordsRemover().setInputCol(\"words\").setOutputCol(\"filtered\").setCaseSensitive(False)\n",
    "\n",
    "    #For each sentence (bag of words), generate word2vec representation\n",
    "    w2v = Word2Vec(vectorSize=w2_param, minCount=0, inputCol=\"words\", outputCol=\"rawfeatures\")\n",
    "\n",
    "    #We use IDF to rescale the feature vectors; this generally improves performance when using text as features.\n",
    "    idf = IDF().setInputCol(\"rawfeatures\").setOutputCol(\"idfFeature\").setMinDocFreq(0)\n",
    "\n",
    "    # Assemble the vector of features\n",
    "    assembler = VectorAssembler(inputCols = [\"scoreVec\", \"idfFeature\", \"reviewCount\"], outputCol = \"features\")\n",
    "\n",
    "    #Our feature vectors could then be passed to a learning algorithm.\n",
    "    # Create a Logistic regression model\n",
    "    lr = LogisticRegression(elasticNetParam=ml_param, labelCol = \"label\")\n",
    "\n",
    "    #Then basically we connect all the steps above to create one pipeline\n",
    "    pipeline=Pipeline(stages=[scoreIndexer, scoreEncoder, tokenizer, w2v, idf, assembler, lr])\n",
    "    return pipeline\n",
    "\n",
    "\n",
    "def get_w2v_paramgrid(value_list):\n",
    "    w2v = Word2Vec(vectorSize=3, minCount=0, inputCol=\"words\", outputCol=\"features\")\n",
    "    lr = LogisticRegression(labelCol = \"label\")\n",
    "    #and associated params\n",
    "    paramGrid = ParamGridBuilder()\\\n",
    "        .addGrid(w2v.vectorSize, value_list)\\\n",
    "        .addGrid(lr.elasticNetParam, [0]) \\\n",
    "        .build()\n",
    "        #.addGrid(lr.setRegParam, lr_values)\\\n",
    "    return paramGrid"
   ]
  },
  {
   "cell_type": "markdown",
   "metadata": {},
   "source": [
    "## Now actually run grid search over different feature types\n",
    "Print results to dataframe csv to allow graphics generation in a different notebook: goal is to be able to generate various graphics from grid search results without having to recalculate the whole thing\n",
    "\n",
    "Note: code  changed to run over dimensions of the grid search sequentially rather than in parallel: this was done because the whole grid search kept crashing out partway due to VPN connection issues and competition for server memory with other users: safer to print it on each loop!"
   ]
  },
  {
   "cell_type": "markdown",
   "metadata": {},
   "source": [
    "### First define some functions \n",
    "For interpreting parameter grids and recording CPU time usage etc"
   ]
  },
  {
   "cell_type": "code",
   "execution_count": 55,
   "metadata": {
    "collapsed": true
   },
   "outputs": [],
   "source": [
    "import sys\n",
    "from io import TextIOWrapper, BytesIO\n",
    "\n",
    "def get_all_times(command, args):\n",
    "    # setup the environment\n",
    "    old_stdout = sys.stdout\n",
    "    sys.stdout = TextIOWrapper(BytesIO(), sys.stdout.encoding)\n",
    "\n",
    "    %time model=command(*args)\n",
    "    sys.stdout.seek(0)\n",
    "    out = sys.stdout.read()\n",
    "\n",
    "    sys.stdout.close()\n",
    "    sys.stdout = old_stdout\n",
    "\n",
    "    times = out\n",
    "    \n",
    "    try:\n",
    "        model=command(*args)\n",
    "        return (model,times)\n",
    "    except Exception as ex:\n",
    "        print(ex)\n",
    "        return (None,times)\n",
    "    \n",
    "    "
   ]
  },
  {
   "cell_type": "code",
   "execution_count": 56,
   "metadata": {
    "collapsed": true
   },
   "outputs": [],
   "source": [
    "def get_param_df(paramGrid, metrics=[]):\n",
    "    params_df = pd.DataFrame(index=[])\n",
    "\n",
    "    for i, param in enumerate(paramGrid):\n",
    "        col_names=[]\n",
    "        param_values=[]\n",
    "        for param_name in param.keys():\n",
    "            col_name = param_name.parent.split('_')[0] + '_' + param_name.name \n",
    "            col_names.append(col_name)\n",
    "            param_value = param[param_name]\n",
    "            param_values.append(param_value)\n",
    "            \n",
    "        this_result=pd.DataFrame([param_values], columns=col_names)\n",
    "        if metrics != []:\n",
    "            this_result['metric'] = metrics[i]\n",
    "        params_df = pd.concat([params_df,this_result],axis=0)\n",
    "    return params_df    "
   ]
  },
  {
   "cell_type": "markdown",
   "metadata": {},
   "source": [
    "### Finally, run the full grid search over training set sizes, param type, param features\n",
    "\n",
    "Note: This gridsearch outputs to a results csv which is designed to be read by the Graphics notebook, not read here!!!\n",
    "\n",
    "The reason for this is to be able to pivot the results in a more agile way without rerunning any grid searches"
   ]
  },
  {
   "cell_type": "code",
   "execution_count": null,
   "metadata": {
    "collapsed": false
   },
   "outputs": [
    {
     "name": "stdout",
     "output_type": "stream",
     "text": [
      "Running training set size: 0.01\n",
      "Processing feature type word2vec\n",
      "Pipeline: Pipeline_4d1f914eacf2dcf3d672\n",
      "Paramgrid values: [10]\n",
      "Paramgrid: [{Param(parent='Word2Vec_470fbc2c943d243e62b4', name='vectorSize', doc='the dimension of codes after transforming from words'): 10, Param(parent='LogisticRegression_48ad9c9fc73a1e2168d3', name='elasticNetParam', doc='the ElasticNet mixing parameter, in range [0, 1]. For alpha = 0, the penalty is an L2 penalty. For alpha = 1, it is an L1 penalty.'): 0}]\n"
     ]
    }
   ],
   "source": [
    "#set config here: currently set to very small grid search dimensions for testing purposes\n",
    "\n",
    "feat_types = ['word2vec','hashing_vector','ngram']\n",
    "pipeline_dict = {'hashing_vector':get_hashvector_pipeline, 'ngram' : get_ngram_pipeline, 'word2vec' : get_w2v_pipeline }\n",
    "param_dict = {'hashing_vector':get_hashvector_paramgrid, 'ngram' : get_ngram_paramgrid, 'word2vec' : get_w2v_paramgrid }\n",
    "values_dict = {'hashing_vector':[[10],[100],[1000],[10000]], 'word2vec':[[10], [100],[1000]], 'ngram':[[2]]}\n",
    "\n",
    "el_param=0\n",
    "\n",
    "#train_size = [0.10, .20, .30, .40, .50, .60, .70, .80, .90, 0.99]\n",
    "train_sizes = [0.01]\n",
    "#train_sizes = [0.5,0.99]\n",
    "\n",
    "models=[]\n",
    "times_list=[]\n",
    "results_df=pd.DataFrame(index=[])\n",
    "\n",
    "for train_size in train_sizes:\n",
    "    print('Running training set size: {}'.format(train_size))\n",
    "    train_set_sampled = train_set.sample(False, train_size, seed=123)\n",
    "    train_set_sampled.persist(StorageLevel.MEMORY_AND_DISK)\n",
    "    for feat in feat_types:\n",
    "        print('Processing feature type {}'.format(feat))\n",
    "        \n",
    "        for paramgrid_values in values_dict[feat]:\n",
    "            pipeline = pipeline_dict[feat](paramgrid_values[0], el_param)\n",
    "            print('Pipeline: {}'.format(pipeline))\n",
    "            #paramgrid_values = values_dict[feat]\n",
    "            print('Paramgrid values: {}'.format(paramgrid_values))\n",
    "            paramGrid = param_dict[feat](paramgrid_values)\n",
    "            print('Paramgrid: {}'.format(paramGrid))\n",
    "\n",
    "            tvs = TrainValidationSplit(estimator=pipeline,\n",
    "                                   estimatorParamMaps=paramGrid,\n",
    "                                   evaluator=BinaryClassificationEvaluator().setMetricName(\"areaUnderPR\"),\n",
    "                                   # 80% of the data will be used for training, 20% for validation.\n",
    "                                   trainRatio=0.8)\n",
    "\n",
    "            tuned_model,time = get_all_times(tvs.fit,(train_set_sampled,)) \n",
    "            models.append(tuned_model)\n",
    "            times_list.append(time)\n",
    "            print('AUC returned: {}'.format(tuned_model.validationMetrics))\n",
    "            this_result_df = get_param_df(paramGrid,tuned_model.validationMetrics)\n",
    "            this_result_df['calc_time'] = time\n",
    "            this_result_df['feature_type'] = feat\n",
    "            this_result_df['train_set_size'] = train_size\n",
    "            results_df = pd.concat([results_df,this_result_df],axis=0)\n",
    "            results_df.to_csv('gridsearch_results.csv',sep='#')\n",
    "\n",
    "            #tuned_model,times = tvs2.fit(train_set)\n",
    "            print('Feature type {} got tuned model: {} and time results: {}'.format(feat, tuned_model, time))\n",
    "\n",
    "print(results_df)"
   ]
  },
  {
   "cell_type": "code",
   "execution_count": null,
   "metadata": {
    "collapsed": true
   },
   "outputs": [],
   "source": []
  }
 ],
 "metadata": {
  "kernelspec": {
   "display_name": "PySpark",
   "language": "python",
   "name": "pyspark"
  },
  "language_info": {
   "codemirror_mode": {
    "name": "ipython",
    "version": 3
   },
   "file_extension": ".py",
   "mimetype": "text/x-python",
   "name": "python",
   "nbconvert_exporter": "python",
   "pygments_lexer": "ipython3",
   "version": "3.5.2"
  }
 },
 "nbformat": 4,
 "nbformat_minor": 2
}
